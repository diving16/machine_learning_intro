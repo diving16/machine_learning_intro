{
 "cells": [
  {
   "cell_type": "markdown",
   "metadata": {},
   "source": [
    "# Mean Absolute Error"
   ]
  },
  {
   "cell_type": "markdown",
   "metadata": {},
   "source": [
    "$MAE = \\frac{\\sum \\limits_{i=1}^n \\left | predicted_i -actual_i \\right|}{total \\, prediction}$"
   ]
  },
  {
   "cell_type": "code",
   "metadata": {},
   "outputs": [],
   "source": [
    "def calculate_MAE(predicted_data,actual_data):\n",
    "    sum_error=0\n",
    "    for i in range(len(predicted_data)):\n",
    "        sum_error+=abs(predicted_data[i]-actual_data[i])\n",
    "    MAE=sum_error/len(predicted_data)\n",
    "    return MAE"
   ]
  },
  {
   "cell_type": "code",
   "execution_count": 7,
   "metadata": {},
   "outputs": [],
   "source": [
    "predicted_data=[0,1,0,2,1,4,1,7]\n",
    "actual_data=[0,0,0,0,1,2,4,7]"
   ]
  },
  {
   "cell_type": "code",
   "execution_count": 8,
   "metadata": {},
   "outputs": [
    {
     "name": "stdout",
     "output_type": "stream",
     "text": [
      "1.0\n"
     ]
    }
   ],
   "source": [
    "MAE=calculate_MAE(predicted_data,actual_data)\n",
    "print(MAE)"
   ]
  },
  {
   "cell_type": "markdown",
   "metadata": {},
   "source": [
    "MAE存在分类讨论的情况，一般不使用，使用RMSE"
   ]
  },
  {
   "cell_type": "markdown",
   "metadata": {},
   "source": [
    "# Root Mean Square Error"
   ]
  },
  {
   "cell_type": "markdown",
   "metadata": {},
   "source": [
    "$RMSE=\\sqrt{\\frac{\\sum \\limits_{i=1}^n  (predicted_i -actual_i)^2 }{total \\, prediction}}$"
   ]
  },
  {
   "cell_type": "code",
   "execution_count": 18,
   "metadata": {},
   "outputs": [],
   "source": [
    "from math import sqrt"
   ]
  },
  {
   "cell_type": "code",
   "execution_count": 19,
   "metadata": {},
   "outputs": [],
   "source": [
    "def calculate_RMSE(predicted_data,actual_data):\n",
    "    sum_error=0\n",
    "    for i in range(len(predicted_data)):\n",
    "        sum_error+=(predicted_data[i]-actual_data[i])**2\n",
    "    RMSE=sqrt(sum_error/len(predicted_data))\n",
    "    return RMSE"
   ]
  },
  {
   "cell_type": "code",
   "execution_count": 20,
   "metadata": {},
   "outputs": [
    {
     "name": "stdout",
     "output_type": "stream",
     "text": [
      "1.5\n"
     ]
    }
   ],
   "source": [
    "RMSE=calculate_RMSE(predicted_data,actual_data)\n",
    "print(RMSE)"
   ]
  }
 ],
 "metadata": {
  "kernelspec": {
   "display_name": "Python 3",
   "language": "python",
   "name": "python3"
  },
  "language_info": {
   "codemirror_mode": {
    "name": "ipython",
    "version": 3
   },
   "file_extension": ".py",
   "mimetype": "text/x-python",
   "name": "python",
   "nbconvert_exporter": "python",
   "pygments_lexer": "ipython3",
   "version": "3.7.3"
  }
 },
 "nbformat": 4,
 "nbformat_minor": 4
}
