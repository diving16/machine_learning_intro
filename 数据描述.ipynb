{
 "cells": [
  {
   "cell_type": "markdown",
   "metadata": {},
   "source": [
    "# Descriptive statistics描述性统计\n",
    "# Statistical inference推测性统计\n",
    "sample --sampling(estimate)--> population(parameter)\n",
    "1. sampling\n",
    "2. estimate\n",
    "    1. Point estimation\n",
    "    \n",
    "    eg. sample size:n=100 $\\overline X=175$\n",
    "    2. Confidence interval\n",
    "    \n",
    "    eg. confidence level 95%:$\\mu=\\overline X \\pm 1.96 \\times S_{\\overline{X}}$\n",
    "    \n",
    "    about 1.96:(Z/t distribution) n>30,use t is ok\n",
    "3. hypothesis test\n",
    "\n",
    "$H_0:\\mu =175,\\overline X=140$\n",
    "\n",
    "    1. $H_0$ is the hypothesis you want to reject,'=' often is here\n",
    "    2. $H_!$ is the hypothesis you want to accept\n",
    "    \n",
    "one tail:\n",
    "$H_0:\\mu \\geq 180$\n",
    "$H_1:\\mu < 180$\n",
    "\n",
    "two tails:\n",
    "$H_0:\\mu = 180$\n",
    "$H_1:\\mu \\neq 180$\n"
   ]
  },
  {
   "cell_type": "markdown",
   "metadata": {},
   "source": [
    "2. calculation\n",
    "$t=\\frac{\\overline X-180}{S_{\\overline X}}$"
   ]
  },
  {
   "cell_type": "markdown",
   "metadata": {},
   "source": [
    "3. Draw distribution(t distribution)\n",
    "4. What is the confidence?"
   ]
  }
 ],
 "metadata": {
  "kernelspec": {
   "display_name": "Python 3",
   "language": "python",
   "name": "python3"
  },
  "language_info": {
   "codemirror_mode": {
    "name": "ipython",
    "version": 3
   },
   "file_extension": ".py",
   "mimetype": "text/x-python",
   "name": "python",
   "nbconvert_exporter": "python",
   "pygments_lexer": "ipython3",
   "version": "3.7.3"
  }
 },
 "nbformat": 4,
 "nbformat_minor": 4
}
