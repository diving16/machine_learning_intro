{
 "cells": [
  {
   "cell_type": "markdown",
   "metadata": {},
   "source": [
    "Whether the prediction for a givin algorithm are good or not ?"
   ]
  },
  {
   "cell_type": "markdown",
   "metadata": {},
   "source": [
    "Baseline Models:"
   ]
  },
  {
   "cell_type": "markdown",
   "metadata": {},
   "source": [
    "# Random Prediction Algorithm:\n",
    "1. Find unique output values from training data\n",
    "2. Randomly select output from the unique output set\n"
   ]
  },
  {
   "cell_type": "code",
   "execution_count": 22,
   "metadata": {},
   "outputs": [],
   "source": [
    "from random import seed\n",
    "from random import randrange"
   ]
  },
  {
   "cell_type": "code",
   "execution_count": 23,
   "metadata": {},
   "outputs": [],
   "source": [
    "def Random_Prediction(training_data,testing_data):\n",
    "    values=[row[-1] for row in training_data]\n",
    "    unique_values=list(set(values))\n",
    "    random_predicted_data=list()\n",
    "    for row in testing_data:\n",
    "        index=randrange(len(unique_values))\n",
    "        random_predicted_data.append(unique_values[index])\n",
    "    return random_predicted_data"
   ]
  },
  {
   "cell_type": "code",
   "execution_count": 24,
   "metadata": {},
   "outputs": [
    {
     "name": "stdout",
     "output_type": "stream",
     "text": [
      "[0, 4, 5, 4, 4]\n"
     ]
    }
   ],
   "source": [
    "seed(888)\n",
    "training_data=[[0],[9],[3],[5],[3],[4],[7],[1]]\n",
    "testing_data=[[None],[None],[None],[None],[None]]\n",
    "\n",
    "prediction=Random_Prediction(training_data,testing_data)\n",
    "print(prediction)"
   ]
  },
  {
   "cell_type": "markdown",
   "metadata": {},
   "source": [
    "# ZeroR Algorithm"
   ]
  },
  {
   "cell_type": "markdown",
   "metadata": {},
   "source": [
    "9 [0] and 1[1]:\n",
    "1. If we use Random Prediction Algorithm:$0.9*0.9+0.1*0.1=0.82$\n",
    "2. If we use ZeroR Algorithm: our prediction is 0:accuacy=9/10=0.9"
   ]
  },
  {
   "cell_type": "code",
   "execution_count": 25,
   "metadata": {},
   "outputs": [],
   "source": [
    "from random import seed\n",
    "from random import randrange"
   ]
  },
  {
   "cell_type": "code",
   "execution_count": 26,
   "metadata": {},
   "outputs": [],
   "source": [
    "def ZeroR(training_data,testing_data):\n",
    "    values=[row[-1] for row in training_data]\n",
    "    highest_count=max(set(values),key=values.count)\n",
    "    ZeroR_prediction=[highest_count for i in range(len(testing_data))]\n",
    "    return ZeroR_prediction"
   ]
  },
  {
   "cell_type": "code",
   "execution_count": 27,
   "metadata": {},
   "outputs": [
    {
     "name": "stdout",
     "output_type": "stream",
     "text": [
      "[3, 3, 3, 3, 3]\n"
     ]
    }
   ],
   "source": [
    "seed(888)\n",
    "training_data=[[0],[9],[3],[5],[3],[4],[7],[1]]\n",
    "testing_data=[[None],[None],[None],[None],[None]]\n",
    "\n",
    "prediction=ZeroR(training_data,testing_data)\n",
    "print(prediction)"
   ]
  },
  {
   "cell_type": "markdown",
   "metadata": {},
   "source": [
    "# Regression"
   ]
  },
  {
   "cell_type": "code",
   "execution_count": 28,
   "metadata": {},
   "outputs": [],
   "source": [
    "from random import seed\n",
    "from random import randrange"
   ]
  },
  {
   "cell_type": "code",
   "execution_count": 29,
   "metadata": {},
   "outputs": [],
   "source": [
    "def ZeroR_Regression(training_data,testing_data):\n",
    "    values=[row[-1] for row in training_data]\n",
    "    prediction=sum(values)/float(len(values))\n",
    "    ZeroR_prediction=[prediction for i in range(len(testing_data))]\n",
    "    return ZeroR_prediction"
   ]
  },
  {
   "cell_type": "code",
   "execution_count": 30,
   "metadata": {},
   "outputs": [
    {
     "name": "stdout",
     "output_type": "stream",
     "text": [
      "[4.0, 4.0, 4.0, 4.0, 4.0]\n"
     ]
    }
   ],
   "source": [
    "seed(888)\n",
    "training_data=[[0],[9],[3],[5],[3],[4],[7],[1]]\n",
    "testing_data=[[None],[None],[None],[None],[None]]\n",
    "\n",
    "prediction=ZeroR_Regression(training_data,testing_data)\n",
    "print(prediction)"
   ]
  },
  {
   "cell_type": "code",
   "execution_count": null,
   "metadata": {},
   "outputs": [],
   "source": []
  }
 ],
 "metadata": {
  "kernelspec": {
   "display_name": "Python 3",
   "language": "python",
   "name": "python3"
  },
  "language_info": {
   "codemirror_mode": {
    "name": "ipython",
    "version": 3
   },
   "file_extension": ".py",
   "mimetype": "text/x-python",
   "name": "python",
   "nbconvert_exporter": "python",
   "pygments_lexer": "ipython3",
   "version": "3.7.3"
  }
 },
 "nbformat": 4,
 "nbformat_minor": 4
}
